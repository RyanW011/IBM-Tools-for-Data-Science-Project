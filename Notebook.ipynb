{
 "cells": [
  {
   "cell_type": "markdown",
   "id": "62d1d9a9-6f43-423c-8765-cb7556282f44",
   "metadata": {},
   "source": [
    "# Data Science Final Project\n"
   ]
  },
  {
   "cell_type": "markdown",
   "id": "63ba7f68-70fb-4619-a973-4f947b846ef3",
   "metadata": {},
   "source": [
    "## Introduction\n",
    "This notebook demonstrates different exercises in data science, including working with markdown, listing programming languages, libraries, tools, and performing arithmetic operations.\n"
   ]
  },
  {
   "cell_type": "markdown",
   "id": "046dac3d-38f0-4b4c-95a7-b8dc7e74cb9e",
   "metadata": {},
   "source": [
    "## Data Science Languages\n",
    "- Python\n",
    "- R\n",
    "- SQL\n",
    "- Julia\n",
    "- Scala\n"
   ]
  },
  {
   "cell_type": "markdown",
   "id": "ba57ce63-c2f9-4bda-b68d-c2492ee620d5",
   "metadata": {},
   "source": [
    "## Data Science Libraries\n",
    "- Pandas\n",
    "- NumPy\n",
    "- Matplotlib\n",
    "- Scikit-learn\n",
    "- TensorFlow\n"
   ]
  },
  {
   "cell_type": "markdown",
   "id": "9614dad4-2c18-4790-b2bf-d7bc83f2ef39",
   "metadata": {},
   "source": [
    "## Data Science Tools\n",
    "| Tool           | Description                    |\n",
    "|----------------|--------------------------------|\n",
    "| Jupyter        | Interactive notebook for data analysis |\n",
    "| RStudio        | IDE for R programming           |\n",
    "| Apache Spark   | Distributed data processing framework |\n"
   ]
  },
  {
   "cell_type": "markdown",
   "id": "36d039d5-b9c3-4930-9c85-1baa0880c338",
   "metadata": {},
   "source": [
    "## Arithmetic Expression Examples\n",
    "The following cells will demonstrate some basic arithmetic operations such as addition and multiplication.\n"
   ]
  },
  {
   "cell_type": "code",
   "execution_count": 6,
   "id": "ef56ac9b-5ab1-409a-8917-d40a04b72dd8",
   "metadata": {},
   "outputs": [
    {
     "data": {
      "text/plain": [
       "17"
      ]
     },
     "execution_count": 6,
     "metadata": {},
     "output_type": "execute_result"
    }
   ],
   "source": [
    "# Multiplying and adding numbers\n",
    "result = (3 * 4) + 5\n",
    "result\n"
   ]
  },
  {
   "cell_type": "code",
   "execution_count": 7,
   "id": "653e3125-861c-4512-b686-6f0aa3c16dea",
   "metadata": {},
   "outputs": [
    {
     "data": {
      "text/plain": [
       "2.0"
      ]
     },
     "execution_count": 7,
     "metadata": {},
     "output_type": "execute_result"
    }
   ],
   "source": [
    "# Converting minutes to hours\n",
    "minutes = 120\n",
    "hours = minutes / 60\n",
    "hours\n"
   ]
  },
  {
   "cell_type": "markdown",
   "id": "bbca8f9f-4d12-4ec5-b271-266b04b49bda",
   "metadata": {},
   "source": [
    "## Objectives\n",
    "- Understand how to use Markdown cells in Jupyter notebooks.\n",
    "- Learn basic arithmetic operations in Python.\n",
    "- List popular data science languages, libraries, and tools.\n"
   ]
  },
  {
   "cell_type": "markdown",
   "id": "c7c88943-d70e-4ed4-9eec-9ec65559ee10",
   "metadata": {},
   "source": [
    "## Author\n",
    "Ryan Wang\n"
   ]
  }
 ],
 "metadata": {
  "kernelspec": {
   "display_name": "Python 3 (ipykernel)",
   "language": "python",
   "name": "python3"
  },
  "language_info": {
   "codemirror_mode": {
    "name": "ipython",
    "version": 3
   },
   "file_extension": ".py",
   "mimetype": "text/x-python",
   "name": "python",
   "nbconvert_exporter": "python",
   "pygments_lexer": "ipython3",
   "version": "3.11.1"
  }
 },
 "nbformat": 4,
 "nbformat_minor": 5
}
